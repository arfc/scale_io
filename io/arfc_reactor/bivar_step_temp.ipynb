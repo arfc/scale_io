{
 "cells": [
  {
   "cell_type": "code",
   "execution_count": null,
   "metadata": {
    "collapsed": false
   },
   "outputs": [],
   "source": [
    "from shutil import copyfile\n",
    "import fileinput\n",
    "import re\n",
    "\n",
    "def fdens(temperature):\n",
    "    # # can't remember source\n",
    "    # return 2.41303 - 0.0004884 * temperature\n",
    "    # Cammi 2011\n",
    "    return 3.374 * (1. - 1.9857e-4 * (temperature - 839))\n",
    "\n",
    "start = 800\n",
    "stop = 1050\n",
    "step = 50\n",
    "root = \"calc_xsecs_provided_buckling\"\n",
    "for fuel_temp in range(start, stop + step, step):\n",
    "    for mod_temp in range(start, stop + step, step):\n",
    "        file_name = root + \"_\" + str(fuel_temp) + \"_mod_\" + str(mod_temp) + \".inp\"\n",
    "        copyfile(root + \".inp\", file_name)\n",
    "        for line in fileinput.input(file_name, inplace=True):\n",
    "            if re.search(r'327.*908', line):\n",
    "                print(line.replace(line, re.sub(r'3\\.327(.*)908', '{:.3f}'.format(fdens(fuel_temp)) + r'\\g<1>' + str(fuel_temp), line)), end=\"\")\n",
    "            elif re.search(r'843.*908', line):\n",
    "                print(line.replace(line, re.sub(r'(843.*)908', r'\\g<1>' + str(mod_temp), line)), end=\"\")\n",
    "            else:\n",
    "                print(line, end=\"\")\n",
    "        # sss -mpi 3 $file"
   ]
  }
 ],
 "metadata": {
  "kernelspec": {
   "display_name": "Python 3",
   "language": "python",
   "name": "python3"
  },
  "language_info": {
   "codemirror_mode": {
    "name": "ipython",
    "version": 3
   },
   "file_extension": ".py",
   "mimetype": "text/x-python",
   "name": "python",
   "nbconvert_exporter": "python",
   "pygments_lexer": "ipython3",
   "version": "3.5.2"
  }
 },
 "nbformat": 4,
 "nbformat_minor": 1
}
