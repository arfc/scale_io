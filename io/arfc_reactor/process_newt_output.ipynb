{
 "cells": [
  {
   "cell_type": "code",
   "execution_count": 94,
   "metadata": {
    "collapsed": true
   },
   "outputs": [],
   "source": [
    "np.set_printoptions(precision=6)"
   ]
  },
  {
   "cell_type": "code",
   "execution_count": 179,
   "metadata": {
    "collapsed": false
   },
   "outputs": [],
   "source": [
    "import fileinput\n",
    "import re\n",
    "import numpy as np\n",
    "\n",
    "file_base = '/home/lindsayad/scale/C834MNYCP02/SCALE-6.2.1/lindsayad/io/arfc_reactor/calc_xsecs_provided_buckling_'\n",
    "\n",
    "fuel_temps = [fuel_temp for fuel_temp in range(800, 1050 + 50, 50)]\n",
    "mod_temps = [mod_temp for mod_temp in range(800, 1050 + 50, 50)]\n",
    "\n",
    "# # Uncomment this if wanting to create a 2D group cross section dependence on both fuel and moderator temperatures\n",
    "# # Would have to write more code to get this into a good 2D format\n",
    "# all_files = [file_base + str(fuel_temp) + '_mod_' + str(mod_temp) + '.out' for mod_temp in mod_temps for fuel_temp in fuel_temps]\n",
    "\n",
    "all_files = [file_base + str(mod_temp) + '_mod_' + str(mod_temp) + '.out' for mod_temp in mod_temps]\n",
    "\n",
    "num_groups = 2\n",
    "num_precursor_groups = 6\n",
    "\n",
    "fuel_xsecs = []\n",
    "mod_xsecs = []\n",
    "fuel_scatter_xsecs = []\n",
    "mod_scatter_xsecs = []\n",
    "fuel_inv_vel = []\n",
    "fuel_lambda = []\n",
    "fuel_beta = []\n",
    "fuel_chi = []\n",
    "mod_inv_vel = []\n",
    "mod_lambda = []\n",
    "mod_beta = []\n",
    "mod_chi = []\n",
    "\n",
    "for file_name in all_files:\n",
    "\n",
    "    file = open(file_name, 'r')\n",
    "\n",
    "    # Collect a whole lot of fuel transport data\n",
    "    for line in file:\n",
    "        if re.search(r'Group.*Total.*Transport', line):\n",
    "            break\n",
    "    file.readline()\n",
    "    fuel_current_temp_xsecs = []\n",
    "    for i in range(num_groups):\n",
    "        fuel_current_temp_xsecs.append([float(i) for i in file.readline().split()])\n",
    "    fuel_xsecs.append(fuel_current_temp_xsecs)\n",
    "\n",
    "    # Collect fuel recipvel\n",
    "    for line in file:\n",
    "        if re.search(r'Group.*Inv\\. Velocity', line):\n",
    "            break\n",
    "    file.readline()\n",
    "    file.readline()\n",
    "    current_temp_fuel_inv_vel = []\n",
    "    for i in range(num_groups):\n",
    "        inv_velocity_line_string = file.readline().split()\n",
    "        current_temp_fuel_inv_vel.append(inv_velocity_line_string[1])\n",
    "    fuel_inv_vel.append(current_temp_fuel_inv_vel)\n",
    "\n",
    "    # Collect fuel scattering data\n",
    "    for line in file:\n",
    "        if re.search(r'P0 Scattering Matrix', line):\n",
    "            break\n",
    "    file.readline()\n",
    "    file.readline()\n",
    "    current_temp_fuel_scatter_xsecs = []\n",
    "    first_scatter_line = file.readline().split()\n",
    "    current_temp_fuel_scatter_xsecs.append([float(string) for index, string in enumerate(first_scatter_line) \\\n",
    "                                       if index in range(2, len(first_scatter_line))])\n",
    "    for i in range(1, num_groups):\n",
    "        next_scatter_line = file.readline().split()\n",
    "        current_temp_fuel_scatter_xsecs.append([float(string) for index, string in enumerate(next_scatter_line) \\\n",
    "                                           if index in range(1, len(next_scatter_line))])\n",
    "    fuel_scatter_xsecs.append(current_temp_fuel_scatter_xsecs)\n",
    "\n",
    "    # Collect fuel chi\n",
    "    for line in file:\n",
    "        if re.search(r'Prompt fission fraction', line):\n",
    "            break\n",
    "    file.readline()\n",
    "    file.readline()\n",
    "    current_temp_fuel_chi = []\n",
    "    for i in range(num_groups):\n",
    "        chi_line_string = file.readline().split()\n",
    "        current_temp_fuel_chi.append(chi_line_string[1])\n",
    "    fuel_chi.append(current_temp_fuel_chi)\n",
    "\n",
    "    # Collect fuel lambda and beta\n",
    "    for line in file:\n",
    "        if re.search(r'Lambda', line):\n",
    "            break\n",
    "    file.readline()\n",
    "    current_temp_fuel_lambda = []\n",
    "    current_temp_fuel_beta = []\n",
    "    for i in range(num_precursor_groups):\n",
    "        decay_line_string = file.readline().split()\n",
    "        current_temp_fuel_lambda.append(decay_line_string[1])\n",
    "        current_temp_fuel_beta.append(decay_line_string[2])\n",
    "    fuel_lambda.append(current_temp_fuel_lambda)\n",
    "    fuel_beta.append(current_temp_fuel_beta)\n",
    "\n",
    "    # Collect a whole lot of moderator transport data\n",
    "    for line in file:\n",
    "        if re.search(r'Group.*Total.*Transport', line):\n",
    "            break\n",
    "    file.readline()\n",
    "    mod_current_temp_xsecs = []\n",
    "    for i in range(num_groups):\n",
    "        mod_current_temp_xsecs.append([float(i) for i in file.readline().split()])\n",
    "    mod_xsecs.append(mod_current_temp_xsecs)\n",
    "\n",
    "    # Collect mod recipvel\n",
    "    for line in file:\n",
    "        if re.search(r'Group.*Inv\\. Velocity', line):\n",
    "            break\n",
    "    file.readline()\n",
    "    file.readline()\n",
    "    current_temp_mod_inv_vel = []\n",
    "    for i in range(num_groups):\n",
    "        inv_velocity_line_string = file.readline().split()\n",
    "        current_temp_mod_inv_vel.append(inv_velocity_line_string[1])\n",
    "    mod_inv_vel.append(current_temp_mod_inv_vel)\n",
    "\n",
    "    # Collect moderator scattering data\n",
    "    for line in file:\n",
    "        if re.search(r'P0 Scattering Matrix', line):\n",
    "            break\n",
    "    file.readline()\n",
    "    file.readline()\n",
    "    current_temp_mod_scatter_xsecs = []\n",
    "    first_scatter_line = file.readline().split()\n",
    "    current_temp_mod_scatter_xsecs.append([float(string) for index, string in enumerate(first_scatter_line) \\\n",
    "                                       if index in range(2, len(first_scatter_line))])\n",
    "    for i in range(1, num_groups):\n",
    "        next_scatter_line = file.readline().split()\n",
    "        current_temp_mod_scatter_xsecs.append([float(string) for index, string in enumerate(next_scatter_line) \\\n",
    "                                           if index in range(1, len(next_scatter_line))])\n",
    "    mod_scatter_xsecs.append(current_temp_mod_scatter_xsecs)\n",
    "\n",
    "    # Collect mod chi\n",
    "    for line in file:\n",
    "        if re.search(r'Prompt fission fraction', line):\n",
    "            break\n",
    "    file.readline()\n",
    "    file.readline()\n",
    "    current_temp_mod_chi = []\n",
    "    for i in range(num_groups):\n",
    "        chi_line_string = file.readline().split()\n",
    "        current_temp_mod_chi.append(chi_line_string[1])\n",
    "    mod_chi.append(current_temp_mod_chi)\n",
    "\n",
    "    # Collect mod lambda and beta\n",
    "    for line in file:\n",
    "        if re.search(r'Lambda', line):\n",
    "            break\n",
    "    file.readline()\n",
    "    current_temp_mod_lambda = []\n",
    "    current_temp_mod_beta = []\n",
    "    for i in range(num_precursor_groups):\n",
    "        decay_line_string = file.readline().split()\n",
    "        current_temp_mod_lambda.append(decay_line_string[1])\n",
    "        current_temp_mod_beta.append(decay_line_string[2])\n",
    "    mod_lambda.append(current_temp_mod_lambda)\n",
    "    mod_beta.append(current_temp_mod_beta)\n",
    "# end for file_name\n",
    "\n",
    "fuel_array = np.array(fuel_xsecs)\n",
    "mod_array = np.array(mod_xsecs)\n",
    "fuel_scatter_array = np.array(fuel_scatter_xsecs)\n",
    "mod_scatter_array = np.array(mod_scatter_xsecs)\n",
    "\n",
    "fuel_sig_out_scatter = np.zeros((len(fuel_temps), num_groups))\n",
    "mod_sig_out_scatter = np.zeros((len(fuel_temps), num_groups))\n",
    "for i in range(fuel_scatter_array.shape[0]):\n",
    "    for j in range(num_groups):\n",
    "        # for k in num_groups:\n",
    "        fuel_sig_out_scatter[i][j] = sum([to_k_from_j_scatter_xsec for k, to_k_from_j_scatter_xsec \\\n",
    "                                    in np.ndenumerate(fuel_scatter_array[i][j]) if k[0] != j])\n",
    "        mod_sig_out_scatter[i][j] = sum([to_k_from_j_scatter_xsec for k, to_k_from_j_scatter_xsec \\\n",
    "                                    in np.ndenumerate(mod_scatter_array[i][j]) if k[0] != j])\n",
    "\n",
    "\n",
    "fuel_nsf = fuel_array[:, :, 5]\n",
    "fuel_sig_f = fuel_array[:, :, 7]\n",
    "fuel_sig_a = fuel_array[:, :, 4]\n",
    "fuel_sig_r = fuel_sig_a + fuel_sig_out_scatter\n",
    "fuel_nubar = fuel_nsf / fuel_sig_f\n",
    "fuel_fisse = fuel_array[:, :, 6] / fuel_sig_f / 1.6e-19 / 1e6\n",
    "fuel_diff_coeff = 1. / (fuel_array[:, :, 2] * 3.)\n",
    "fuel_flux = fuel_array[:, :, 8]\n",
    "fuel_inv_vel = np.array(fuel_inv_vel)\n",
    "fuel_lambda = np.array(fuel_lambda)\n",
    "fuel_beta = np.array(fuel_beta)\n",
    "fuel_chi = np.array(fuel_chi)\n",
    "\n",
    "mod_nsf = mod_array[:, :, 5]\n",
    "mod_sig_f = mod_array[:, :, 7]\n",
    "mod_sig_a = mod_array[:, :, 4]\n",
    "mod_sig_r = mod_sig_a + mod_sig_out_scatter\n",
    "mod_nubar = mod_nsf * 0\n",
    "mod_fisse = mod_array[:, :, 6] * 0\n",
    "mod_diff_coeff = 1. / (mod_array[:, :, 2] * 3.)\n",
    "mod_flux = mod_array[:, :, 8]\n",
    "mod_inv_vel = np.array(mod_inv_vel)\n",
    "mod_lambda = np.array(mod_lambda)\n",
    "mod_beta = np.array(mod_beta)\n",
    "mod_chi = np.array(mod_chi)\n"
   ]
  },
  {
   "cell_type": "code",
   "execution_count": 180,
   "metadata": {
    "collapsed": false
   },
   "outputs": [],
   "source": [
    "class XsecData():\n",
    "    def __init__(self, temperature, data, xsec_name, mat_name, out_prefix=\"newt\"):\n",
    "        self.name = xsec_name.upper()\n",
    "        self.temperature = np.array(temperature)\n",
    "        self.data = data\n",
    "        self.dim = len(data.shape) - 1\n",
    "        self._error_check()\n",
    "        self.out_name = out_prefix + \"_\" + mat_name + \"_\" + self.name + \".txt\"\n",
    "        \n",
    "    def _error_check(self):\n",
    "        if len(self.temperature.shape) > 1:\n",
    "            raise RuntimeError(\"Temperature should only be a 1D array or list\")\n",
    "        if self.temperature.shape[0] != self.data.shape[0]:\n",
    "            raise RuntimeError(\"Temperature and data are not the same length\")\n",
    "        if self.dim < 1 or self.dim > 2:\n",
    "            raise RuntimeError(\"We expect 1D sets like fission cross section or 2D sets like \"\n",
    "                               \"scattering matrices\")\n",
    "        valid_names = [\"FLUX\", \"REMXS\", \"FISSXS\", \"NUBAR\", \"NSF\", \"FISSE\", \"DIFFCOEF\", \\\n",
    "          \"RECIPVEL\", \"CHI\", \"GTRANSFXS\", \"BETA_EFF\", \"DECAY_CONSTANT\"]\n",
    "        if self.name not in valid_names:\n",
    "            raise RuntimeError(\"Specified xsec name does not match any expected by Moltres\")\n",
    "        \n",
    "    def write_moltres_input_file(self):\n",
    "        with open(self.out_name, 'w') as f:\n",
    "            for i in range(self.temperature.shape[0]):\n",
    "                if self.dim == 1:\n",
    "                    data_string_list = [\" \" + str(j) for j in self.data[i]]\n",
    "                if self.dim == 2:\n",
    "                    data_string_list = []\n",
    "                    for j in range(self.data[i].shape[0]):\n",
    "                        for k in self.data[i][j]:\n",
    "                            data_string_list.append(\" \" + str(k))\n",
    "                write_string = str(self.temperature[i]) + \"\".join(data_string_list) + \"\\n\"\n",
    "                f.write(write_string)        "
   ]
  },
  {
   "cell_type": "code",
   "execution_count": 181,
   "metadata": {
    "collapsed": false
   },
   "outputs": [],
   "source": [
    "fuel_data_dict = {\"FLUX\" : fuel_flux, \"REMXS\" : fuel_sig_r, \"NUBAR\" : fuel_nubar, \"NSF\" : fuel_nsf, \"FISSE\" : fuel_fisse, \"DIFFCOEF\" : fuel_diff_coeff, \"RECIPVEL\" : fuel_inv_vel, \"CHI\" : fuel_chi, \"GTRANSFXS\" : fuel_scatter_array, \"BETA_EFF\" : fuel_beta, \"DECAY_CONSTANT\" : fuel_lambda}\n",
    "mod_data_dict = {\"FLUX\" : mod_flux, \"REMXS\" : mod_sig_r, \"NUBAR\" : mod_nubar, \"NSF\" : mod_nsf, \"FISSE\" : mod_fisse, \"DIFFCOEF\" : mod_diff_coeff, \"RECIPVEL\" : mod_inv_vel, \"CHI\" : mod_chi, \"GTRANSFXS\" : mod_scatter_array, \"BETA_EFF\" : mod_beta, \"DECAY_CONSTANT\" : mod_lambda}\n",
    "\n",
    "for name, data in fuel_data_dict.items():\n",
    "    XsecData(mod_temps, data, name, \"fuel\").write_moltres_input_file()\n",
    "for name, data in mod_data_dict.items():\n",
    "    XsecData(mod_temps, data, name, \"mod\").write_moltres_input_file()"
   ]
  },
  {
   "cell_type": "code",
   "execution_count": 175,
   "metadata": {
    "collapsed": false
   },
   "outputs": [],
   "source": [
    "stupid_dictionary = {\"john\" : 1, \"dan\" : 2}"
   ]
  },
  {
   "cell_type": "code",
   "execution_count": 176,
   "metadata": {
    "collapsed": true
   },
   "outputs": [
    {
     "data": {
      "text/plain": [
       "1"
      ]
     },
     "execution_count": 176,
     "metadata": {},
     "output_type": "execute_result"
    }
   ],
   "source": [
    "stupid_dictionary[\"john\"]"
   ]
  },
  {
   "cell_type": "code",
   "execution_count": 170,
   "metadata": {
    "collapsed": true
   },
   "outputs": [
    {
     "name": "stdout",
     "output_type": "stream",
     "text": [
      " 0.30693 0.00166688 0.000972376 0.288354 0.303973 0.00171639 0.00108954 0.285505 0.300905 0.0017751 0.0012223 0.282539 0.29791 0.00185298 0.00139188 0.279675 0.294802 0.00194277 0.00158033 0.276692 0.291761 0.00204546 0.00178887 0.27376\n"
     ]
    }
   ],
   "source": [
    "data_string_list = []\n",
    "for i in range(fuel_scatter_array.shape[0]):\n",
    "    for j in range(fuel_scatter_array[i].shape[0]):\n",
    "        for k in fuel_scatter_array[i][j]:\n",
    "            data_string_list.append(\" \" + str(k))\n",
    "write_string = \"\".join(data_string_list)\n",
    "print(write_string)"
   ]
  },
  {
   "cell_type": "code",
   "execution_count": 165,
   "metadata": {
    "collapsed": true
   },
   "outputs": [
    {
     "name": "stdout",
     "output_type": "stream",
     "text": [
      "0\n",
      "1\n",
      "0\n",
      "1\n",
      "0\n",
      "1\n",
      "0\n",
      "1\n",
      "0\n",
      "1\n",
      "0\n",
      "1\n",
      "0\n",
      "1\n",
      "0\n",
      "1\n",
      "0\n",
      "1\n",
      "0\n",
      "1\n",
      "0\n",
      "1\n",
      "0\n",
      "1\n"
     ]
    }
   ],
   "source": [
    "for i in range(fuel_scatter_array.shape[0]):\n",
    "    for j in range(fuel_scatter_array[i].shape[0]):\n",
    "        for k in range(fuel_scatter_array[i][j].shape[0]):\n",
    "            print(k)"
   ]
  },
  {
   "cell_type": "code",
   "execution_count": 152,
   "metadata": {
    "collapsed": true
   },
   "outputs": [
    {
     "name": "stdout",
     "output_type": "stream",
     "text": [
      "[[[ 0.30693   0.001667]\n",
      "  [ 0.000972  0.288354]]\n",
      "\n",
      " [[ 0.303973  0.001716]\n",
      "  [ 0.00109   0.285505]]\n",
      "\n",
      " [[ 0.300905  0.001775]\n",
      "  [ 0.001222  0.282539]]\n",
      "\n",
      " [[ 0.29791   0.001853]\n",
      "  [ 0.001392  0.279675]]\n",
      "\n",
      " [[ 0.294802  0.001943]\n",
      "  [ 0.00158   0.276692]]\n",
      "\n",
      " [[ 0.291761  0.002045]\n",
      "  [ 0.001789  0.27376 ]]]\n"
     ]
    }
   ],
   "source": [
    "print(fuel_scatter_array)"
   ]
  },
  {
   "cell_type": "code",
   "execution_count": 162,
   "metadata": {
    "collapsed": true
   },
   "outputs": [
    {
     "name": "stdout",
     "output_type": "stream",
     "text": [
      "0\n",
      "1\n"
     ]
    }
   ],
   "source": [
    "for j in range(fuel_scatter_array[0].shape[0]):\n",
    "    print(j)"
   ]
  },
  {
   "cell_type": "code",
   "execution_count": 155,
   "metadata": {
    "collapsed": true
   },
   "outputs": [
    {
     "name": "stdout",
     "output_type": "stream",
     "text": [
      "<class 'numpy.ndarray'>\n"
     ]
    }
   ],
   "source": [
    "print(type(fuel_scatter_array[0]))"
   ]
  },
  {
   "cell_type": "code",
   "execution_count": 173,
   "metadata": {
    "collapsed": true
   },
   "outputs": [],
   "source": [
    "scatter_object = XsecData(mod_temps, fuel_scatter_array, \"GTRANSFXS\", \"fuel\")\n",
    "\n",
    "scatter_object.write_moltres_input_file()"
   ]
  },
  {
   "cell_type": "code",
   "execution_count": 174,
   "metadata": {
    "collapsed": true
   },
   "outputs": [],
   "source": [
    "fission_object = XsecData(mod_temps, fuel_sig_f, \"FISSXS\", \"fuel\")\n",
    "\n",
    "fission_object.write_moltres_input_file()"
   ]
  },
  {
   "cell_type": "code",
   "execution_count": 127,
   "metadata": {
    "collapsed": false
   },
   "outputs": [],
   "source": [
    "fake_temp1 = [100, 200, 300]\n",
    "fake_temp2 = [[100, 200], [300, 400]]"
   ]
  },
  {
   "cell_type": "code",
   "execution_count": 131,
   "metadata": {
    "collapsed": true
   },
   "outputs": [
    {
     "ename": "RuntimeError",
     "evalue": "Temperature should only be a 1D array or list",
     "output_type": "error",
     "traceback": [
      "\u001b[0;31m---------------------------------------------------------------------------\u001b[0m",
      "\u001b[0;31mRuntimeError\u001b[0m                              Traceback (most recent call last)",
      "\u001b[0;32m<ipython-input-131-0aeae75d5824>\u001b[0m in \u001b[0;36m<module>\u001b[0;34m()\u001b[0m\n\u001b[0;32m----> 1\u001b[0;31m \u001b[0mfake_f_object\u001b[0m \u001b[0;34m=\u001b[0m \u001b[0mXsecData\u001b[0m\u001b[0;34m(\u001b[0m\u001b[0mfake_temp2\u001b[0m\u001b[0;34m,\u001b[0m \u001b[0mfuel_sig_f\u001b[0m\u001b[0;34m,\u001b[0m \u001b[0;34m\"\"\u001b[0m\u001b[0;34m)\u001b[0m\u001b[0;34m\u001b[0m\u001b[0m\n\u001b[0m",
      "\u001b[0;32m<ipython-input-129-e97188b38670>\u001b[0m in \u001b[0;36m__init__\u001b[0;34m(self, temperature, data, name)\u001b[0m\n\u001b[1;32m      5\u001b[0m         \u001b[0mself\u001b[0m\u001b[0;34m.\u001b[0m\u001b[0mdata\u001b[0m \u001b[0;34m=\u001b[0m \u001b[0mdata\u001b[0m\u001b[0;34m\u001b[0m\u001b[0m\n\u001b[1;32m      6\u001b[0m         \u001b[0mself\u001b[0m\u001b[0;34m.\u001b[0m\u001b[0mdim\u001b[0m \u001b[0;34m=\u001b[0m \u001b[0mlen\u001b[0m\u001b[0;34m(\u001b[0m\u001b[0mdata\u001b[0m\u001b[0;34m.\u001b[0m\u001b[0mshape\u001b[0m\u001b[0;34m)\u001b[0m\u001b[0;34m\u001b[0m\u001b[0m\n\u001b[0;32m----> 7\u001b[0;31m         \u001b[0mself\u001b[0m\u001b[0;34m.\u001b[0m\u001b[0m_error_check\u001b[0m\u001b[0;34m(\u001b[0m\u001b[0;34m)\u001b[0m\u001b[0;34m\u001b[0m\u001b[0m\n\u001b[0m\u001b[1;32m      8\u001b[0m \u001b[0;34m\u001b[0m\u001b[0m\n\u001b[1;32m      9\u001b[0m     \u001b[0;32mdef\u001b[0m \u001b[0m_error_check\u001b[0m\u001b[0;34m(\u001b[0m\u001b[0mself\u001b[0m\u001b[0;34m)\u001b[0m\u001b[0;34m:\u001b[0m\u001b[0;34m\u001b[0m\u001b[0m\n",
      "\u001b[0;32m<ipython-input-129-e97188b38670>\u001b[0m in \u001b[0;36m_error_check\u001b[0;34m(self)\u001b[0m\n\u001b[1;32m      9\u001b[0m     \u001b[0;32mdef\u001b[0m \u001b[0m_error_check\u001b[0m\u001b[0;34m(\u001b[0m\u001b[0mself\u001b[0m\u001b[0;34m)\u001b[0m\u001b[0;34m:\u001b[0m\u001b[0;34m\u001b[0m\u001b[0m\n\u001b[1;32m     10\u001b[0m         \u001b[0;32mif\u001b[0m \u001b[0mlen\u001b[0m\u001b[0;34m(\u001b[0m\u001b[0mself\u001b[0m\u001b[0;34m.\u001b[0m\u001b[0mtemperature\u001b[0m\u001b[0;34m.\u001b[0m\u001b[0mshape\u001b[0m\u001b[0;34m)\u001b[0m \u001b[0;34m>\u001b[0m \u001b[0;36m1\u001b[0m\u001b[0;34m:\u001b[0m\u001b[0;34m\u001b[0m\u001b[0m\n\u001b[0;32m---> 11\u001b[0;31m             \u001b[0;32mraise\u001b[0m \u001b[0mRuntimeError\u001b[0m\u001b[0;34m(\u001b[0m\u001b[0;34m\"Temperature should only be a 1D array or list\"\u001b[0m\u001b[0;34m)\u001b[0m\u001b[0;34m\u001b[0m\u001b[0m\n\u001b[0m\u001b[1;32m     12\u001b[0m         \u001b[0;32mif\u001b[0m \u001b[0mself\u001b[0m\u001b[0;34m.\u001b[0m\u001b[0mtemperature\u001b[0m\u001b[0;34m.\u001b[0m\u001b[0mshape\u001b[0m\u001b[0;34m[\u001b[0m\u001b[0;36m0\u001b[0m\u001b[0;34m]\u001b[0m \u001b[0;34m!=\u001b[0m \u001b[0mself\u001b[0m\u001b[0;34m.\u001b[0m\u001b[0mdata\u001b[0m\u001b[0;34m.\u001b[0m\u001b[0mshape\u001b[0m\u001b[0;34m[\u001b[0m\u001b[0;36m0\u001b[0m\u001b[0;34m]\u001b[0m\u001b[0;34m:\u001b[0m\u001b[0;34m\u001b[0m\u001b[0m\n\u001b[1;32m     13\u001b[0m             \u001b[0;32mraise\u001b[0m \u001b[0mRuntimeError\u001b[0m\u001b[0;34m(\u001b[0m\u001b[0;34m\"Temperature and data are not the same length\"\u001b[0m\u001b[0;34m)\u001b[0m\u001b[0;34m\u001b[0m\u001b[0m\n",
      "\u001b[0;31mRuntimeError\u001b[0m: Temperature should only be a 1D array or list"
     ]
    }
   ],
   "source": [
    "fake_f_object = XsecData(fake_temp2, fuel_sig_f, \"\")"
   ]
  },
  {
   "cell_type": "code",
   "execution_count": 118,
   "metadata": {
    "collapsed": true
   },
   "outputs": [
    {
     "name": "stdout",
     "output_type": "stream",
     "text": [
      "[['1.00000E+00' '0.00000E+00']\n",
      " ['1.00000E+00' '0.00000E+00']\n",
      " ['1.00000E+00' '0.00000E+00']\n",
      " ['1.00000E+00' '0.00000E+00']\n",
      " ['1.00000E+00' '0.00000E+00']\n",
      " ['1.00000E+00' '0.00000E+00']]\n",
      "[['0.00000E+00' '0.00000E+00']\n",
      " ['0.00000E+00' '0.00000E+00']\n",
      " ['0.00000E+00' '0.00000E+00']\n",
      " ['0.00000E+00' '0.00000E+00']\n",
      " ['0.00000E+00' '0.00000E+00']\n",
      " ['0.00000E+00' '0.00000E+00']]\n"
     ]
    }
   ],
   "source": [
    "print(fuel_chi)\n",
    "print(mod_chi)"
   ]
  },
  {
   "cell_type": "code",
   "execution_count": 115,
   "metadata": {
    "collapsed": true
   },
   "outputs": [
    {
     "name": "stdout",
     "output_type": "stream",
     "text": [
      "[[ 0.  0.]\n",
      " [ 0.  0.]\n",
      " [ 0.  0.]\n",
      " [ 0.  0.]\n",
      " [ 0.  0.]\n",
      " [ 0.  0.]]\n"
     ]
    }
   ],
   "source": [
    "print(mod_fisse)"
   ]
  },
  {
   "cell_type": "code",
   "execution_count": 110,
   "metadata": {
    "collapsed": true
   },
   "outputs": [
    {
     "name": "stdout",
     "output_type": "stream",
     "text": [
      "[['8.82678E-08' '2.20878E-06']\n",
      " ['8.89665E-08' '2.15884E-06']\n",
      " ['8.97751E-08' '2.11260E-06']\n",
      " ['9.07549E-08' '2.07008E-06']\n",
      " ['9.18915E-08' '2.03057E-06']\n",
      " ['9.31834E-08' '1.99373E-06']]\n",
      "[['2.71651E-04' '9.00498E-04' '7.85468E-04' '9.07969E-04' '1.82857E-04'\n",
      "  '1.10602E-04']\n",
      " ['2.71667E-04' '9.00830E-04' '7.85588E-04' '9.07886E-04' '1.82754E-04'\n",
      "  '1.10593E-04']\n",
      " ['2.71682E-04' '9.01172E-04' '7.85709E-04' '9.07788E-04' '1.82643E-04'\n",
      "  '1.10582E-04']\n",
      " ['2.71697E-04' '9.01513E-04' '7.85829E-04' '9.07697E-04' '1.82535E-04'\n",
      "  '1.10572E-04']\n",
      " ['2.71713E-04' '9.01867E-04' '7.85953E-04' '9.07593E-04' '1.82419E-04'\n",
      "  '1.10561E-04']\n",
      " ['2.71728E-04' '9.02214E-04' '7.86075E-04' '9.07491E-04' '1.82305E-04'\n",
      "  '1.10550E-04']]\n",
      "[['1.25852E-02' '3.38917E-02' '1.38636E-01' '3.23935E-01' '1.15104E+00'\n",
      "  '2.61020E+00']\n",
      " ['1.25853E-02' '3.38904E-02' '1.38638E-01' '3.23941E-01' '1.15093E+00'\n",
      "  '2.60957E+00']\n",
      " ['1.25854E-02' '3.38891E-02' '1.38640E-01' '3.23948E-01' '1.15082E+00'\n",
      "  '2.60891E+00']\n",
      " ['1.25855E-02' '3.38878E-02' '1.38642E-01' '3.23954E-01' '1.15071E+00'\n",
      "  '2.60826E+00']\n",
      " ['1.25856E-02' '3.38864E-02' '1.38644E-01' '3.23961E-01' '1.15059E+00'\n",
      "  '2.60757E+00']\n",
      " ['1.25857E-02' '3.38851E-02' '1.38646E-01' '3.23968E-01' '1.15047E+00'\n",
      "  '2.60689E+00']]\n",
      "[['9.98015E-08' '2.26700E-06']\n",
      " ['1.00526E-07' '2.21321E-06']\n",
      " ['1.01368E-07' '2.16353E-06']\n",
      " ['1.02401E-07' '2.11804E-06']\n",
      " ['1.03601E-07' '2.07583E-06']\n",
      " ['1.04971E-07' '2.03652E-06']]\n",
      "[['0.00000E+00' '0.00000E+00' '0.00000E+00' '0.00000E+00' '0.00000E+00'\n",
      "  '0.00000E+00']\n",
      " ['0.00000E+00' '0.00000E+00' '0.00000E+00' '0.00000E+00' '0.00000E+00'\n",
      "  '0.00000E+00']\n",
      " ['0.00000E+00' '0.00000E+00' '0.00000E+00' '0.00000E+00' '0.00000E+00'\n",
      "  '0.00000E+00']\n",
      " ['0.00000E+00' '0.00000E+00' '0.00000E+00' '0.00000E+00' '0.00000E+00'\n",
      "  '0.00000E+00']\n",
      " ['0.00000E+00' '0.00000E+00' '0.00000E+00' '0.00000E+00' '0.00000E+00'\n",
      "  '0.00000E+00']\n",
      " ['0.00000E+00' '0.00000E+00' '0.00000E+00' '0.00000E+00' '0.00000E+00'\n",
      "  '0.00000E+00']]\n",
      "[['0.00000E+00' '0.00000E+00' '0.00000E+00' '0.00000E+00' '0.00000E+00'\n",
      "  '0.00000E+00']\n",
      " ['0.00000E+00' '0.00000E+00' '0.00000E+00' '0.00000E+00' '0.00000E+00'\n",
      "  '0.00000E+00']\n",
      " ['0.00000E+00' '0.00000E+00' '0.00000E+00' '0.00000E+00' '0.00000E+00'\n",
      "  '0.00000E+00']\n",
      " ['0.00000E+00' '0.00000E+00' '0.00000E+00' '0.00000E+00' '0.00000E+00'\n",
      "  '0.00000E+00']\n",
      " ['0.00000E+00' '0.00000E+00' '0.00000E+00' '0.00000E+00' '0.00000E+00'\n",
      "  '0.00000E+00']\n",
      " ['0.00000E+00' '0.00000E+00' '0.00000E+00' '0.00000E+00' '0.00000E+00'\n",
      "  '0.00000E+00']]\n"
     ]
    }
   ],
   "source": [
    "print(fuel_inv_vel)\n",
    "print(fuel_beta)\n",
    "print(fuel_lambda)\n",
    "print(mod_inv_vel)\n",
    "print(mod_beta)\n",
    "print(mod_lambda)"
   ]
  },
  {
   "cell_type": "code",
   "execution_count": 103,
   "metadata": {
    "collapsed": true
   },
   "outputs": [
    {
     "name": "stdout",
     "output_type": "stream",
     "text": [
      "[[ 0.001667  0.000972]\n",
      " [ 0.001716  0.00109 ]\n",
      " [ 0.001775  0.001222]\n",
      " [ 0.001853  0.001392]\n",
      " [ 0.001943  0.00158 ]\n",
      " [ 0.002045  0.001789]]\n",
      "[[ 0.009272  0.041553]\n",
      " [ 0.009254  0.040238]\n",
      " [ 0.009231  0.038997]\n",
      " [ 0.009218  0.037851]\n",
      " [ 0.009201  0.036763]\n",
      " [ 0.009183  0.035748]]\n",
      "[[ 0.010938  0.042526]\n",
      " [ 0.01097   0.041328]\n",
      " [ 0.011006  0.040219]\n",
      " [ 0.011071  0.039243]\n",
      " [ 0.011143  0.038344]\n",
      " [ 0.011228  0.037537]]\n",
      "[[ 0.003972  0.001625]\n",
      " [ 0.004113  0.001867]\n",
      " [ 0.004278  0.002144]\n",
      " [ 0.004491  0.002505]\n",
      " [ 0.004736  0.002912]\n",
      " [ 0.005015  0.003368]]\n",
      "[[  1.399310e-05   1.558530e-04]\n",
      " [  1.405210e-05   1.522490e-04]\n",
      " [  1.411390e-05   1.488600e-04]\n",
      " [  1.418810e-05   1.457430e-04]\n",
      " [  1.426690e-05   1.428580e-04]\n",
      " [  1.436200e-05   1.401750e-04]]\n",
      "[[ 0.003986  0.001781]\n",
      " [ 0.004127  0.002019]\n",
      " [ 0.004292  0.002293]\n",
      " [ 0.004505  0.002651]\n",
      " [ 0.00475   0.003055]\n",
      " [ 0.005029  0.003508]]\n"
     ]
    }
   ],
   "source": [
    "print(fuel_sig_out_scatter)\n",
    "print(fuel_sig_a)\n",
    "print(fuel_sig_r)\n",
    "print(mod_sig_out_scatter)\n",
    "print(mod_sig_a)\n",
    "print(mod_sig_r)"
   ]
  },
  {
   "cell_type": "markdown",
   "metadata": {},
   "source": [
    "Remaining cross section data to parse:\n",
    "\n",
    "- recipvel\n",
    "- chi\n",
    "- betta_eff\n",
    "- decay_constant"
   ]
  },
  {
   "cell_type": "markdown",
   "metadata": {},
   "source": [
    "|0|1|2|3|4|5|6|7|8|\n",
    "|-|-|-|-|-|-|-|-|-|\n",
    "|group_number|sig_t|sig_tr|sig_a_weird|sig_a|nsf|kappa\\*fission|sig_f|flux|\n"
   ]
  },
  {
   "cell_type": "code",
   "execution_count": 102,
   "metadata": {
    "collapsed": true
   },
   "outputs": [
    {
     "data": {
      "text/plain": [
       "0.010939"
      ]
     },
     "execution_count": 102,
     "metadata": {},
     "output_type": "execute_result"
    }
   ],
   "source": [
    ".001667 + .009272"
   ]
  },
  {
   "cell_type": "code",
   "execution_count": 90,
   "metadata": {
    "collapsed": true
   },
   "outputs": [
    {
     "data": {
      "text/plain": [
       "array([[[ 0.307,  0.002],\n",
       "        [ 0.001,  0.288]],\n",
       "\n",
       "       [[ 0.304,  0.002],\n",
       "        [ 0.001,  0.286]],\n",
       "\n",
       "       [[ 0.301,  0.002],\n",
       "        [ 0.001,  0.283]],\n",
       "\n",
       "       [[ 0.298,  0.002],\n",
       "        [ 0.001,  0.28 ]],\n",
       "\n",
       "       [[ 0.295,  0.002],\n",
       "        [ 0.002,  0.277]],\n",
       "\n",
       "       [[ 0.292,  0.002],\n",
       "        [ 0.002,  0.274]]])"
      ]
     },
     "execution_count": 90,
     "metadata": {},
     "output_type": "execute_result"
    }
   ],
   "source": [
    "fuel_scatter_array"
   ]
  },
  {
   "cell_type": "code",
   "execution_count": 85,
   "metadata": {
    "collapsed": true
   },
   "outputs": [
    {
     "data": {
      "text/plain": [
       "array([ 0.307,  0.002])"
      ]
     },
     "execution_count": 85,
     "metadata": {},
     "output_type": "execute_result"
    }
   ],
   "source": [
    "fuel_scatter_array[0][0]"
   ]
  },
  {
   "cell_type": "code",
   "execution_count": 82,
   "metadata": {
    "collapsed": true
   },
   "outputs": [
    {
     "name": "stdout",
     "output_type": "stream",
     "text": [
      "[ 0.008  0.062]\n"
     ]
    }
   ],
   "source": [
    "print(fuel_nsf[0])"
   ]
  },
  {
   "cell_type": "code",
   "execution_count": 83,
   "metadata": {
    "collapsed": true
   },
   "outputs": [
    {
     "name": "stdout",
     "output_type": "stream",
     "text": [
      "2\n"
     ]
    }
   ],
   "source": [
    "print(fuel_nsf[0].size)"
   ]
  },
  {
   "cell_type": "code",
   "execution_count": 81,
   "metadata": {
    "collapsed": true
   },
   "outputs": [
    {
     "name": "stdout",
     "output_type": "stream",
     "text": [
      "(6, 2)\n"
     ]
    }
   ],
   "source": [
    "print(mod_nsf.shape)"
   ]
  },
  {
   "cell_type": "markdown",
   "metadata": {},
   "source": [
    "|0|1|2|3|4|5|6|7|8|\n",
    "|-|-|-|-|-|-|-|-|-|\n",
    "|group_number|sig_t|sig_tr|sig_a_weird|sig_a|nsf|kappa\\*fission|sig_f|flux|\n"
   ]
  },
  {
   "cell_type": "code",
   "execution_count": 79,
   "metadata": {
    "collapsed": true
   },
   "outputs": [
    {
     "name": "stdout",
     "output_type": "stream",
     "text": [
      "(6, 2, 9)\n",
      "[ 0.318  0.315  0.312  0.309  0.306  0.303]\n",
      "(6, 2, 9)\n",
      "[ 0.395  0.395  0.395  0.395  0.395  0.395]\n",
      "(6, 2, 2)\n",
      "(6, 2, 2)\n"
     ]
    }
   ],
   "source": [
    "print(fuel_array.shape)\n",
    "print(fuel_array[:, 0, 1])\n",
    "print(mod_array.shape)\n",
    "print(mod_array[:, 0, 1])\n",
    "print(fuel_scatter_array.shape)\n",
    "print(mod_scatter_array.shape)"
   ]
  },
  {
   "cell_type": "code",
   "execution_count": 80,
   "metadata": {
    "collapsed": true
   },
   "outputs": [
    {
     "name": "stdout",
     "output_type": "stream",
     "text": [
      "[[[ 0.307  0.002]\n",
      "  [ 0.001  0.288]]\n",
      "\n",
      " [[ 0.304  0.002]\n",
      "  [ 0.001  0.286]]\n",
      "\n",
      " [[ 0.301  0.002]\n",
      "  [ 0.001  0.283]]\n",
      "\n",
      " [[ 0.298  0.002]\n",
      "  [ 0.001  0.28 ]]\n",
      "\n",
      " [[ 0.295  0.002]\n",
      "  [ 0.002  0.277]]\n",
      "\n",
      " [[ 0.292  0.002]\n",
      "  [ 0.002  0.274]]]\n",
      "[[[ 0.391  0.004]\n",
      "  [ 0.002  0.453]]\n",
      "\n",
      " [[ 0.391  0.004]\n",
      "  [ 0.002  0.453]]\n",
      "\n",
      " [[ 0.391  0.004]\n",
      "  [ 0.002  0.453]]\n",
      "\n",
      " [[ 0.391  0.004]\n",
      "  [ 0.003  0.453]]\n",
      "\n",
      " [[ 0.391  0.005]\n",
      "  [ 0.003  0.453]]\n",
      "\n",
      " [[ 0.39   0.005]\n",
      "  [ 0.003  0.452]]]\n"
     ]
    }
   ],
   "source": [
    "print(fuel_scatter_array[:, :, :])\n",
    "print(mod_scatter_array[:, :, :])"
   ]
  },
  {
   "cell_type": "code",
   "execution_count": 64,
   "metadata": {
    "collapsed": true
   },
   "outputs": [
    {
     "name": "stdout",
     "output_type": "stream",
     "text": [
      "[[ 0.318  0.331]\n",
      " [ 0.315  0.327]\n",
      " [ 0.312  0.323]\n",
      " [ 0.309  0.319]\n",
      " [ 0.306  0.315]\n",
      " [ 0.303  0.311]]\n",
      "[[ 0.395  0.455]\n",
      " [ 0.395  0.455]\n",
      " [ 0.395  0.455]\n",
      " [ 0.395  0.455]\n",
      " [ 0.395  0.456]\n",
      " [ 0.395  0.456]]\n"
     ]
    }
   ],
   "source": [
    "print(fuel_array[:, :, 1])\n",
    "print(mod_array[:, :, 1])"
   ]
  },
  {
   "cell_type": "code",
   "execution_count": 67,
   "metadata": {
    "collapsed": true
   },
   "outputs": [
    {
     "name": "stdout",
     "output_type": "stream",
     "text": [
      "(2, 3)\n",
      "(6, 3)\n"
     ]
    }
   ],
   "source": [
    "a = np.array([[1,2,3],\n",
    "              [4,5,6]])\n",
    "b = np.array([[3,2,4],\n",
    "              [5,6,7]])\n",
    "c = np.array([[7,8,9],\n",
    "              [10,11,12]])\n",
    "print(c.shape)\n",
    "newarray = np.concatenate([a, b, c])\n",
    "print(newarray.shape)"
   ]
  },
  {
   "cell_type": "code",
   "execution_count": 7,
   "metadata": {
    "collapsed": true
   },
   "outputs": [
    {
     "name": "stdout",
     "output_type": "stream",
     "text": [
      "    Group     Total          Transport      Absorption     Total-Scatter  Nu*Fission                                                                                         Kappa*Fission  Fission        Flux\n",
      "\n",
      "[1.0, 0.305946, 0.26033, 0.00928483, 0.00920062, 0.00825746, 1.0126e-13, 0.00330442, 2.49795]\n"
     ]
    }
   ],
   "source": [
    "filename = '/home/lindsayad/scale/C834MNYCP02/SCALE-6.2.1/lindsayad/io/arfc_reactor/calc_xsecs_provided_buckling_1000_mod_1000.out'\n",
    "\n",
    "file = open(filename, 'r')\n",
    "for line in file:\n",
    "    if re.search(r'Group.*Total.*Transport', line):\n",
    "        break\n",
    "        \n",
    "file.readline()\n",
    "xsecs = [float(i) for i in file.readline().split()]\n",
    "print(xsecs)"
   ]
  },
  {
   "cell_type": "code",
   "execution_count": 55,
   "metadata": {
    "collapsed": true
   },
   "outputs": [
    {
     "ename": "ValueError",
     "evalue": "zero-dimensional arrays cannot be concatenated",
     "output_type": "error",
     "traceback": [
      "\u001b[0;31m---------------------------------------------------------------------------\u001b[0m",
      "\u001b[0;31mValueError\u001b[0m                                Traceback (most recent call last)",
      "\u001b[0;32m<ipython-input-55-18716385491c>\u001b[0m in \u001b[0;36m<module>\u001b[0;34m()\u001b[0m\n\u001b[1;32m     13\u001b[0m     \u001b[0mfuel_current_temp_xsecs\u001b[0m \u001b[0;34m=\u001b[0m \u001b[0mnp\u001b[0m\u001b[0;34m.\u001b[0m\u001b[0mndarray\u001b[0m\u001b[0;34m(\u001b[0m\u001b[0;34m(\u001b[0m\u001b[0;34m)\u001b[0m\u001b[0;34m)\u001b[0m\u001b[0;34m\u001b[0m\u001b[0m\n\u001b[1;32m     14\u001b[0m     \u001b[0;32mfor\u001b[0m \u001b[0mi\u001b[0m \u001b[0;32min\u001b[0m \u001b[0mrange\u001b[0m\u001b[0;34m(\u001b[0m\u001b[0mnum_groups\u001b[0m\u001b[0;34m)\u001b[0m\u001b[0;34m:\u001b[0m\u001b[0;34m\u001b[0m\u001b[0m\n\u001b[0;32m---> 15\u001b[0;31m         \u001b[0mfuel_current_temp_xsecs\u001b[0m \u001b[0;34m=\u001b[0m \u001b[0mnp\u001b[0m\u001b[0;34m.\u001b[0m\u001b[0mappend\u001b[0m\u001b[0;34m(\u001b[0m\u001b[0mfuel_current_temp_xsecs\u001b[0m\u001b[0;34m,\u001b[0m \u001b[0;34m[\u001b[0m\u001b[0mfloat\u001b[0m\u001b[0;34m(\u001b[0m\u001b[0mi\u001b[0m\u001b[0;34m)\u001b[0m \u001b[0;32mfor\u001b[0m \u001b[0mi\u001b[0m \u001b[0;32min\u001b[0m \u001b[0mfile\u001b[0m\u001b[0;34m.\u001b[0m\u001b[0mreadline\u001b[0m\u001b[0;34m(\u001b[0m\u001b[0;34m)\u001b[0m\u001b[0;34m.\u001b[0m\u001b[0msplit\u001b[0m\u001b[0;34m(\u001b[0m\u001b[0;34m)\u001b[0m\u001b[0;34m]\u001b[0m\u001b[0;34m,\u001b[0m \u001b[0maxis\u001b[0m\u001b[0;34m=\u001b[0m\u001b[0;36m0\u001b[0m\u001b[0;34m)\u001b[0m\u001b[0;34m\u001b[0m\u001b[0m\n\u001b[0m\u001b[1;32m     16\u001b[0m     \u001b[0mfuel_xsecs\u001b[0m \u001b[0;34m=\u001b[0m \u001b[0mnp\u001b[0m\u001b[0;34m.\u001b[0m\u001b[0mappend\u001b[0m\u001b[0;34m(\u001b[0m\u001b[0mfuel_xsecs\u001b[0m\u001b[0;34m,\u001b[0m \u001b[0mfuel_current_temp_xsecs\u001b[0m\u001b[0;34m)\u001b[0m\u001b[0;34m\u001b[0m\u001b[0m\n\u001b[1;32m     17\u001b[0m \u001b[0;34m\u001b[0m\u001b[0m\n",
      "\u001b[0;32m/home/lindsayad/miniconda2/envs/yt-devel/lib/python3.5/site-packages/numpy/lib/function_base.py\u001b[0m in \u001b[0;36mappend\u001b[0;34m(arr, values, axis)\u001b[0m\n\u001b[1;32m   4584\u001b[0m         \u001b[0mvalues\u001b[0m \u001b[0;34m=\u001b[0m \u001b[0mravel\u001b[0m\u001b[0;34m(\u001b[0m\u001b[0mvalues\u001b[0m\u001b[0;34m)\u001b[0m\u001b[0;34m\u001b[0m\u001b[0m\n\u001b[1;32m   4585\u001b[0m         \u001b[0maxis\u001b[0m \u001b[0;34m=\u001b[0m \u001b[0marr\u001b[0m\u001b[0;34m.\u001b[0m\u001b[0mndim\u001b[0m\u001b[0;34m-\u001b[0m\u001b[0;36m1\u001b[0m\u001b[0;34m\u001b[0m\u001b[0m\n\u001b[0;32m-> 4586\u001b[0;31m     \u001b[0;32mreturn\u001b[0m \u001b[0mconcatenate\u001b[0m\u001b[0;34m(\u001b[0m\u001b[0;34m(\u001b[0m\u001b[0marr\u001b[0m\u001b[0;34m,\u001b[0m \u001b[0mvalues\u001b[0m\u001b[0;34m)\u001b[0m\u001b[0;34m,\u001b[0m \u001b[0maxis\u001b[0m\u001b[0;34m=\u001b[0m\u001b[0maxis\u001b[0m\u001b[0;34m)\u001b[0m\u001b[0;34m\u001b[0m\u001b[0m\n\u001b[0m\u001b[1;32m   4587\u001b[0m \u001b[0;34m\u001b[0m\u001b[0m\n",
      "\u001b[0;31mValueError\u001b[0m: zero-dimensional arrays cannot be concatenated"
     ]
    }
   ],
   "source": [
    "num_groups = 2\n",
    "\n",
    "fuel_xsecs = np.ndarray(())\n",
    "mod_xsecs = np.ndarray(())\n",
    "for file_name in all_files:\n",
    "        \n",
    "    file = open(file_name, 'r')\n",
    "    \n",
    "    for line in file:\n",
    "        if re.search(r'Group.*Total.*Transport', line):\n",
    "            break\n",
    "    file.readline()\n",
    "    fuel_current_temp_xsecs = np.ndarray(())\n",
    "    for i in range(num_groups):\n",
    "        fuel_current_temp_xsecs = np.append(fuel_current_temp_xsecs, [float(i) for i in file.readline().split()], axis=0)\n",
    "    fuel_xsecs = np.append(fuel_xsecs, fuel_current_temp_xsecs)\n",
    "    \n",
    "    for line in file:\n",
    "        if re.search(r'Group.*Total.*Transport', line):\n",
    "            break\n",
    "    file.readline()\n",
    "    mod_current_temp_xsecs = np.ndarray(())\n",
    "    for i in range(num_groups):\n",
    "        mod_current_temp_xsecs = np.append(mod_current_temp_xsecs, [float(i) for i in file.readline().split()])\n",
    "    mod_xsecs = np.append(mod_xsecs, mod_current_temp_xsecs)"
   ]
  },
  {
   "cell_type": "code",
   "execution_count": 48,
   "metadata": {
    "collapsed": true
   },
   "outputs": [
    {
     "name": "stdout",
     "output_type": "stream",
     "text": [
      "6\n",
      "108\n",
      "(115,)\n",
      "(115,)\n"
     ]
    }
   ],
   "source": [
    "num_xsecs = 9\n",
    "print(len(mod_temps))\n",
    "print(len(mod_temps) * num_groups * num_xsecs)\n",
    "print(fuel_xsecs.shape)\n",
    "print(mod_xsecs.shape)"
   ]
  },
  {
   "cell_type": "code",
   "execution_count": 50,
   "metadata": {
    "collapsed": true
   },
   "outputs": [
    {
     "name": "stdout",
     "output_type": "stream",
     "text": [
      "[  1.365e+000   0.000e+000   1.000e+000   3.179e-001   2.706e-001\n",
      "   9.359e-003   9.272e-003   8.438e-003   1.035e-013   3.377e-003\n",
      "   2.450e+000   2.000e+000   3.309e-001   3.178e-001   4.155e-002\n",
      "   4.155e-002   6.181e-002   7.587e-013   2.475e-002   1.068e+000\n",
      "   1.057e-316   1.000e+000   3.149e-001   2.681e-001   9.341e-003\n",
      "   9.254e-003   8.389e-003   1.029e-013   3.357e-003   2.461e+000\n",
      "   2.000e+000   3.268e-001   3.140e-001   4.024e-002   4.024e-002\n",
      "   5.991e-002   7.354e-013   2.400e-002   1.101e+000   1.057e-316\n",
      "   1.000e+000   3.119e-001   2.655e-001   9.317e-003   9.231e-003\n",
      "   8.341e-003   1.023e-013   3.338e-003   2.473e+000   2.000e+000\n",
      "   3.228e-001   3.101e-001   3.900e-002   3.900e-002   5.813e-002\n",
      "   7.135e-013   2.328e-002   1.135e+000   1.057e-316   1.000e+000\n",
      "   3.090e-001   2.629e-001   9.303e-003   9.218e-003   8.298e-003\n",
      "   1.018e-013   3.321e-003   2.485e+000   2.000e+000   3.189e-001\n",
      "   3.064e-001   3.785e-002   3.785e-002   5.648e-002   6.933e-013\n",
      "   2.262e-002   1.167e+000   1.057e-316   1.000e+000   3.059e-001\n",
      "   2.603e-001   9.285e-003   9.201e-003   8.257e-003   1.013e-013\n",
      "   3.304e-003   2.498e+000   2.000e+000   3.150e-001   3.027e-001\n",
      "   3.676e-002   3.676e-002   5.493e-002   6.742e-013   2.200e-002\n",
      "   1.199e+000   1.057e-316   1.000e+000   3.030e-001   2.578e-001\n",
      "   9.266e-003   9.183e-003   8.223e-003   1.008e-013   3.291e-003\n",
      "   2.512e+000   2.000e+000   3.113e-001   2.992e-001   3.575e-002\n",
      "   3.575e-002   5.347e-002   6.564e-013   2.142e-002   1.231e+000]\n",
      "[  1.057e-316   1.365e+000   1.000e+000   3.951e-001   3.363e-001\n",
      "   1.400e-005   1.399e-005   0.000e+000   0.000e+000   0.000e+000\n",
      "   2.316e+000   2.000e+000   4.550e-001   4.297e-001   1.559e-004\n",
      "   1.559e-004   0.000e+000   0.000e+000   0.000e+000   1.203e+000\n",
      "   1.057e-316   1.000e+000   3.951e-001   3.363e-001   1.405e-005\n",
      "   1.405e-005   0.000e+000   0.000e+000   0.000e+000   2.327e+000\n",
      "   2.000e+000   4.551e-001   4.298e-001   1.522e-004   1.522e-004\n",
      "   0.000e+000   0.000e+000   0.000e+000   1.237e+000   1.057e-316\n",
      "   1.000e+000   3.952e-001   3.363e-001   1.411e-005   1.411e-005\n",
      "   0.000e+000   0.000e+000   0.000e+000   2.338e+000   2.000e+000\n",
      "   4.552e-001   4.299e-001   1.488e-004   1.489e-004   0.000e+000\n",
      "   0.000e+000   0.000e+000   1.270e+000   1.057e-316   1.000e+000\n",
      "   3.952e-001   3.364e-001   1.419e-005   1.419e-005   0.000e+000\n",
      "   0.000e+000   0.000e+000   2.350e+000   2.000e+000   4.555e-001\n",
      "   4.301e-001   1.457e-004   1.457e-004   0.000e+000   0.000e+000\n",
      "   0.000e+000   1.302e+000   1.057e-316   1.000e+000   3.953e-001\n",
      "   3.364e-001   1.427e-005   1.427e-005   0.000e+000   0.000e+000\n",
      "   0.000e+000   2.363e+000   2.000e+000   4.557e-001   4.303e-001\n",
      "   1.429e-004   1.429e-004   0.000e+000   0.000e+000   0.000e+000\n",
      "   1.334e+000   1.057e-316   1.000e+000   3.953e-001   3.365e-001\n",
      "   1.436e-005   1.436e-005   0.000e+000   0.000e+000   0.000e+000\n",
      "   2.377e+000   2.000e+000   4.559e-001   4.305e-001   1.402e-004\n",
      "   1.402e-004   0.000e+000   0.000e+000   0.000e+000   1.365e+000]\n"
     ]
    }
   ],
   "source": [
    "np.set_printoptions(precision=3)\n",
    "print(fuel_xsecs)\n",
    "print(mod_xsecs)"
   ]
  },
  {
   "cell_type": "code",
   "execution_count": 54,
   "metadata": {
    "collapsed": true
   },
   "outputs": [
    {
     "name": "stdout",
     "output_type": "stream",
     "text": [
      "6\n",
      "2\n",
      "9\n"
     ]
    }
   ],
   "source": [
    "print(len(fuel_xsecs))\n",
    "print(len(fuel_xsecs[0]))\n",
    "print(len(fuel_xsecs[0][0]))"
   ]
  },
  {
   "cell_type": "code",
   "execution_count": 30,
   "metadata": {
    "collapsed": true
   },
   "outputs": [
    {
     "data": {
      "text/plain": [
       "1.0"
      ]
     },
     "execution_count": 30,
     "metadata": {},
     "output_type": "execute_result"
    }
   ],
   "source": [
    "fuel_xsecs[0][0][0]"
   ]
  },
  {
   "cell_type": "code",
   "execution_count": 33,
   "metadata": {
    "collapsed": true
   },
   "outputs": [
    {
     "data": {
      "text/plain": [
       "[2.0,\n",
       " 0.330881,\n",
       " 0.317826,\n",
       " 0.0415534,\n",
       " 0.0415534,\n",
       " 0.0618061,\n",
       " 7.58671e-13,\n",
       " 0.0247541,\n",
       " 1.06776]"
      ]
     },
     "execution_count": 33,
     "metadata": {},
     "output_type": "execute_result"
    }
   ],
   "source": [
    "fuel_xsecs[:][0][1]"
   ]
  },
  {
   "cell_type": "code",
   "execution_count": 34,
   "metadata": {
    "collapsed": true
   },
   "outputs": [
    {
     "data": {
      "text/plain": [
       "[1.0,\n",
       " 0.314956,\n",
       " 0.268088,\n",
       " 0.00932983,\n",
       " 0.00924296,\n",
       " 0.00836108,\n",
       " 1.02528e-13,\n",
       " 0.00334582,\n",
       " 2.45517]"
      ]
     },
     "execution_count": 34,
     "metadata": {},
     "output_type": "execute_result"
    }
   ],
   "source": [
    "fuel_xsecs[1][0][:]"
   ]
  },
  {
   "cell_type": "markdown",
   "metadata": {},
   "source": [
    "You have to think about what you're doing. I would like to have a 3-D list. The first (x) dimension is the type of cross section. The second (y) dimension is the temperature. I would like the third (z) dimension to be the group number. Think about how this would be ordered in a flattened list with a for loop structure like this:\n",
    "\n",
    "```python\n",
    "dim_3_list = []\n",
    "for temp in temperatures:\n",
    "    dim_2_list = []\n",
    "    for group in num_groups:\n",
    "        dim_2_list.append(dim_1_list)\n",
    "```"
   ]
  },
  {
   "cell_type": "markdown",
   "metadata": {},
   "source": [
    "In the above formulation, the first dimension is temperature, second dimension is group, and third dimension is `xsec_type`"
   ]
  },
  {
   "cell_type": "code",
   "execution_count": 11,
   "metadata": {
    "collapsed": true
   },
   "outputs": [
    {
     "data": {
      "text/plain": [
       "['/home/lindsayad/scale/C834MNYCP02/SCALE-6.2.1/lindsayad/io/arfc_reactor/calc_xsecs_provided_buckling_800_mod_800.out',\n",
       " '/home/lindsayad/scale/C834MNYCP02/SCALE-6.2.1/lindsayad/io/arfc_reactor/calc_xsecs_provided_buckling_850_mod_800.out',\n",
       " '/home/lindsayad/scale/C834MNYCP02/SCALE-6.2.1/lindsayad/io/arfc_reactor/calc_xsecs_provided_buckling_900_mod_800.out',\n",
       " '/home/lindsayad/scale/C834MNYCP02/SCALE-6.2.1/lindsayad/io/arfc_reactor/calc_xsecs_provided_buckling_950_mod_800.out',\n",
       " '/home/lindsayad/scale/C834MNYCP02/SCALE-6.2.1/lindsayad/io/arfc_reactor/calc_xsecs_provided_buckling_1000_mod_800.out',\n",
       " '/home/lindsayad/scale/C834MNYCP02/SCALE-6.2.1/lindsayad/io/arfc_reactor/calc_xsecs_provided_buckling_1050_mod_800.out',\n",
       " '/home/lindsayad/scale/C834MNYCP02/SCALE-6.2.1/lindsayad/io/arfc_reactor/calc_xsecs_provided_buckling_800_mod_850.out',\n",
       " '/home/lindsayad/scale/C834MNYCP02/SCALE-6.2.1/lindsayad/io/arfc_reactor/calc_xsecs_provided_buckling_850_mod_850.out',\n",
       " '/home/lindsayad/scale/C834MNYCP02/SCALE-6.2.1/lindsayad/io/arfc_reactor/calc_xsecs_provided_buckling_900_mod_850.out',\n",
       " '/home/lindsayad/scale/C834MNYCP02/SCALE-6.2.1/lindsayad/io/arfc_reactor/calc_xsecs_provided_buckling_950_mod_850.out',\n",
       " '/home/lindsayad/scale/C834MNYCP02/SCALE-6.2.1/lindsayad/io/arfc_reactor/calc_xsecs_provided_buckling_1000_mod_850.out',\n",
       " '/home/lindsayad/scale/C834MNYCP02/SCALE-6.2.1/lindsayad/io/arfc_reactor/calc_xsecs_provided_buckling_1050_mod_850.out',\n",
       " '/home/lindsayad/scale/C834MNYCP02/SCALE-6.2.1/lindsayad/io/arfc_reactor/calc_xsecs_provided_buckling_800_mod_900.out',\n",
       " '/home/lindsayad/scale/C834MNYCP02/SCALE-6.2.1/lindsayad/io/arfc_reactor/calc_xsecs_provided_buckling_850_mod_900.out',\n",
       " '/home/lindsayad/scale/C834MNYCP02/SCALE-6.2.1/lindsayad/io/arfc_reactor/calc_xsecs_provided_buckling_900_mod_900.out',\n",
       " '/home/lindsayad/scale/C834MNYCP02/SCALE-6.2.1/lindsayad/io/arfc_reactor/calc_xsecs_provided_buckling_950_mod_900.out',\n",
       " '/home/lindsayad/scale/C834MNYCP02/SCALE-6.2.1/lindsayad/io/arfc_reactor/calc_xsecs_provided_buckling_1000_mod_900.out',\n",
       " '/home/lindsayad/scale/C834MNYCP02/SCALE-6.2.1/lindsayad/io/arfc_reactor/calc_xsecs_provided_buckling_1050_mod_900.out',\n",
       " '/home/lindsayad/scale/C834MNYCP02/SCALE-6.2.1/lindsayad/io/arfc_reactor/calc_xsecs_provided_buckling_800_mod_950.out',\n",
       " '/home/lindsayad/scale/C834MNYCP02/SCALE-6.2.1/lindsayad/io/arfc_reactor/calc_xsecs_provided_buckling_850_mod_950.out',\n",
       " '/home/lindsayad/scale/C834MNYCP02/SCALE-6.2.1/lindsayad/io/arfc_reactor/calc_xsecs_provided_buckling_900_mod_950.out',\n",
       " '/home/lindsayad/scale/C834MNYCP02/SCALE-6.2.1/lindsayad/io/arfc_reactor/calc_xsecs_provided_buckling_950_mod_950.out',\n",
       " '/home/lindsayad/scale/C834MNYCP02/SCALE-6.2.1/lindsayad/io/arfc_reactor/calc_xsecs_provided_buckling_1000_mod_950.out',\n",
       " '/home/lindsayad/scale/C834MNYCP02/SCALE-6.2.1/lindsayad/io/arfc_reactor/calc_xsecs_provided_buckling_1050_mod_950.out',\n",
       " '/home/lindsayad/scale/C834MNYCP02/SCALE-6.2.1/lindsayad/io/arfc_reactor/calc_xsecs_provided_buckling_800_mod_1000.out',\n",
       " '/home/lindsayad/scale/C834MNYCP02/SCALE-6.2.1/lindsayad/io/arfc_reactor/calc_xsecs_provided_buckling_850_mod_1000.out',\n",
       " '/home/lindsayad/scale/C834MNYCP02/SCALE-6.2.1/lindsayad/io/arfc_reactor/calc_xsecs_provided_buckling_900_mod_1000.out',\n",
       " '/home/lindsayad/scale/C834MNYCP02/SCALE-6.2.1/lindsayad/io/arfc_reactor/calc_xsecs_provided_buckling_950_mod_1000.out',\n",
       " '/home/lindsayad/scale/C834MNYCP02/SCALE-6.2.1/lindsayad/io/arfc_reactor/calc_xsecs_provided_buckling_1000_mod_1000.out',\n",
       " '/home/lindsayad/scale/C834MNYCP02/SCALE-6.2.1/lindsayad/io/arfc_reactor/calc_xsecs_provided_buckling_1050_mod_1000.out',\n",
       " '/home/lindsayad/scale/C834MNYCP02/SCALE-6.2.1/lindsayad/io/arfc_reactor/calc_xsecs_provided_buckling_800_mod_1050.out',\n",
       " '/home/lindsayad/scale/C834MNYCP02/SCALE-6.2.1/lindsayad/io/arfc_reactor/calc_xsecs_provided_buckling_850_mod_1050.out',\n",
       " '/home/lindsayad/scale/C834MNYCP02/SCALE-6.2.1/lindsayad/io/arfc_reactor/calc_xsecs_provided_buckling_900_mod_1050.out',\n",
       " '/home/lindsayad/scale/C834MNYCP02/SCALE-6.2.1/lindsayad/io/arfc_reactor/calc_xsecs_provided_buckling_950_mod_1050.out',\n",
       " '/home/lindsayad/scale/C834MNYCP02/SCALE-6.2.1/lindsayad/io/arfc_reactor/calc_xsecs_provided_buckling_1000_mod_1050.out',\n",
       " '/home/lindsayad/scale/C834MNYCP02/SCALE-6.2.1/lindsayad/io/arfc_reactor/calc_xsecs_provided_buckling_1050_mod_1050.out']"
      ]
     },
     "execution_count": 11,
     "metadata": {},
     "output_type": "execute_result"
    }
   ],
   "source": [
    "all_files"
   ]
  },
  {
   "cell_type": "code",
   "execution_count": 17,
   "metadata": {
    "collapsed": false
   },
   "outputs": [],
   "source": [
    "cross_sections = [i for i in input.readline()]"
   ]
  },
  {
   "cell_type": "code",
   "execution_count": 18,
   "metadata": {
    "collapsed": true
   },
   "outputs": [
    {
     "name": "stdout",
     "output_type": "stream",
     "text": [
      "[' ', ' ', ' ', ' ', ' ', ' ', '1', ' ', ' ', ' ', ' ', ' ', ' ', ' ', ' ', '3', '.', '0', '5', '9', '4', '6', 'E', '-', '0', '1', ' ', ' ', ' ', ' ', '2', '.', '6', '0', '3', '3', '0', 'E', '-', '0', '1', ' ', ' ', ' ', ' ', '9', '.', '2', '8', '4', '8', '3', 'E', '-', '0', '3', ' ', ' ', ' ', ' ', '9', '.', '2', '0', '0', '6', '2', 'E', '-', '0', '3', ' ', ' ', ' ', ' ', '8', '.', '2', '5', '7', '4', '6', 'E', '-', '0', '3', ' ', ' ', ' ', ' ', '1', '.', '0', '1', '2', '6', '0', 'E', '-', '1', '3', ' ', ' ', ' ', ' ', '3', '.', '3', '0', '4', '4', '2', 'E', '-', '0', '3', ' ', ' ', ' ', ' ', '2', '.', '4', '9', '7', '9', '5', 'E', '+', '0', '0', '\\n']\n"
     ]
    }
   ],
   "source": [
    "print(cross_sections)"
   ]
  }
 ],
 "metadata": {
  "kernelspec": {
   "display_name": "Python 3",
   "language": "python",
   "name": "python3"
  },
  "language_info": {
   "codemirror_mode": {
    "name": "ipython",
    "version": 3
   },
   "file_extension": ".py",
   "mimetype": "text/x-python",
   "name": "python",
   "nbconvert_exporter": "python",
   "pygments_lexer": "ipython3",
   "version": "3.5.2"
  }
 },
 "nbformat": 4,
 "nbformat_minor": 1
}
